{
  "nbformat": 4,
  "nbformat_minor": 0,
  "metadata": {
    "colab": {
      "provenance": [],
      "mount_file_id": "1WVfm_mudn3KBCCESzn7E8UwaQaHpJAij",
      "authorship_tag": "ABX9TyMZhK2e5szfcFkE6/Adpixb",
      "include_colab_link": true
    },
    "kernelspec": {
      "name": "python3",
      "display_name": "Python 3"
    },
    "language_info": {
      "name": "python"
    }
  },
  "cells": [
    {
      "cell_type": "markdown",
      "metadata": {
        "id": "view-in-github",
        "colab_type": "text"
      },
      "source": [
        "<a href=\"https://colab.research.google.com/github/harunkurtdev/ayvos_staj/blob/master/clipanddinov2_comparasion.ipynb\" target=\"_parent\"><img src=\"https://colab.research.google.com/assets/colab-badge.svg\" alt=\"Open In Colab\"/></a>"
      ]
    },
    {
      "cell_type": "code",
      "source": [
        "!pip install torch==2.5.1 torchvision==0.20.1 pytorch_lightning==2.4.0 matplotlib"
      ],
      "metadata": {
        "id": "kZHzCLStqOGK"
      },
      "execution_count": null,
      "outputs": []
    },
    {
      "cell_type": "code",
      "source": [
        "import torch\n",
        "from PIL import Image\n",
        "import requests\n",
        "import torchvision.transforms as T\n",
        "from transformers import CLIPProcessor, CLIPModel\n",
        "import timm\n",
        "\n",
        "# --- Görseli yükle ---\n",
        "image_url = \"https://avatars.mds.yandex.net/i?id=bc3fc5bd425db819f5ae6cd6f03c69b64d5387af-4551637-images-thumbs&n=13\"\n",
        "image = Image.open(requests.get(image_url, stream=True).raw).convert(\"RGB\")\n",
        "\n",
        "# --- CLIP Hazırlığı ---\n",
        "clip_model = CLIPModel.from_pretrained(\"openai/clip-vit-base-patch32\")\n",
        "clip_processor = CLIPProcessor.from_pretrained(\"openai/clip-vit-base-patch32\")\n",
        "\n",
        "clip_inputs = clip_processor(images=image, return_tensors=\"pt\")\n",
        "with torch.no_grad():\n",
        "    clip_features = clip_model.get_image_features(**clip_inputs)  # (1, 512)\n",
        "\n",
        "# --- DINOv2 Hazırlığı ---\n",
        "transform = T.Compose([\n",
        "    T.Resize((518, 518)),  # DINOv2 modelinin beklediği giriş boyutu\n",
        "    T.ToTensor(),\n",
        "    T.Normalize(mean=[0.485, 0.456, 0.406],\n",
        "                std=[0.229, 0.224, 0.225])\n",
        "])\n",
        "image_tensor = transform(image).unsqueeze(0)  # (1, 3, 518, 518)\n",
        "\n",
        "\n",
        "# DINOv2 (vit_large_patch14) modelini yükle\n",
        "dino_model = timm.create_model('vit_large_patch14_dinov2.lvd142m', pretrained=True)\n",
        "dino_model.eval()\n",
        "with torch.no_grad():\n",
        "    dino_features = dino_model(image_tensor)  # (1, 1024)\n",
        "\n",
        "# --- Normalize et ---\n",
        "clip_features = torch.nn.functional.normalize(clip_features, dim=-1)\n",
        "dino_features = torch.nn.functional.normalize(dino_features, dim=-1)\n",
        "\n",
        "# --- Birleştir ---\n",
        "combined_features = torch.cat([clip_features, dino_features], dim=-1)  # (1, 1536)\n",
        "\n",
        "print(\"CLIP Feature Shape:     \", clip_features.shape)\n",
        "print(\"DINOv2 Feature Shape:   \", dino_features.shape)\n",
        "print(\"Combined Feature Shape: \", combined_features.shape)\n"
      ],
      "metadata": {
        "colab": {
          "base_uri": "https://localhost:8080/"
        },
        "id": "PvS2317DiFZU",
        "outputId": "179ef713-5cfc-4e6c-d564-be26db6e6c3d"
      },
      "execution_count": 23,
      "outputs": [
        {
          "output_type": "stream",
          "name": "stdout",
          "text": [
            "CLIP Feature Shape:      torch.Size([1, 512])\n",
            "DINOv2 Feature Shape:    torch.Size([1, 1024])\n",
            "Combined Feature Shape:  torch.Size([1, 1536])\n"
          ]
        }
      ]
    },
    {
      "cell_type": "code",
      "source": [
        "import torch.nn.functional as F\n",
        "# --- CLIP transform ---\n",
        "clip_inputs = clip_processor(images=image, return_tensors=\"pt\")\n",
        "\n",
        "# --- DINOv2 transform ---\n",
        "transform_dino = T.Compose([\n",
        "    T.Resize((518, 518)),\n",
        "    T.ToTensor(),\n",
        "    T.Normalize(mean=[0.485, 0.456, 0.406],\n",
        "                std=[0.229, 0.224, 0.225])\n",
        "])\n",
        "\n",
        "image_tensor_dino = transform_dino(image).unsqueeze(0)\n",
        "\n",
        "# --- Görsel embedding'leri ---\n",
        "with torch.no_grad():\n",
        "    clip_image_emb = clip_model.get_image_features(**clip_inputs)\n",
        "    dino_emb = dino_model(image_tensor_dino)\n",
        "\n",
        "# --- Normalize ve birleştir ---\n",
        "clip_image_emb = F.normalize(clip_image_emb, dim=-1)\n",
        "dino_emb = F.normalize(dino_emb, dim=-1)\n",
        "image_embedding = torch.cat([clip_image_emb, dino_emb], dim=-1)\n",
        "image_embedding = F.normalize(image_embedding, dim=-1)\n",
        "\n",
        "# --- Textleri tanımla ---\n",
        "text_list = [\"a dog\", \"a cat\", \"a mount\",\"a person\", \"a truck\", \"a tree\", \"a firefighter\"]\n",
        "text_inputs = clip_processor(text=text_list, return_tensors=\"pt\", padding=True)\n",
        "\n",
        "# --- Metin embedding ---\n",
        "with torch.no_grad():\n",
        "    text_emb = clip_model.get_text_features(**text_inputs)\n",
        "text_emb = F.normalize(text_emb, dim=-1)\n",
        "\n",
        "# --- Benzerlik hesapla ---\n",
        "# (1, 1536) x (6, 512) => dikkat: önce text embedding'lerini 1536 boyuta çıkarmamız lazım\n",
        "# Basit çözüm: sadece CLIP text + CLIP image kullanmak\n",
        "# Ama burada CLIP text ile combined (CLIP+DINOv2) görsel karşılaştıracağız\n",
        "\n",
        "# Bu durumda DINOv2 kısmını dışarda bırakabiliriz — veya bir MLP ile metin boyutunu 1536’ya çıkarmak gerek\n",
        "\n",
        "# Şimdi sadece CLIP kısmıyla karşılaştıralım:\n",
        "similarity_scores = (clip_image_emb @ text_emb.T).squeeze()\n",
        "\n",
        "# --- Sonuçları yazdır ---\n",
        "print(\"📷 Görsel URL:\", image_url)\n",
        "print(\"\\n🔍 Metin Benzerlikleri:\")\n",
        "for i, text in enumerate(text_list):\n",
        "    print(f\"  \\\"{text}\\\" : {similarity_scores[i]:.4f}\")"
      ],
      "metadata": {
        "colab": {
          "base_uri": "https://localhost:8080/"
        },
        "id": "JPPE9wTZkghF",
        "outputId": "5f65e1f9-9bca-4953-a020-73922af72e10"
      },
      "execution_count": 24,
      "outputs": [
        {
          "output_type": "stream",
          "name": "stdout",
          "text": [
            "📷 Görsel URL: https://avatars.mds.yandex.net/i?id=bc3fc5bd425db819f5ae6cd6f03c69b64d5387af-4551637-images-thumbs&n=13\n",
            "\n",
            "🔍 Metin Benzerlikleri:\n",
            "  \"a dog\" : 0.2544\n",
            "  \"a cat\" : 0.1864\n",
            "  \"a mount\" : 0.2200\n",
            "  \"a person\" : 0.2045\n",
            "  \"a truck\" : 0.1906\n",
            "  \"a tree\" : 0.1568\n",
            "  \"a firefighter\" : 0.1859\n"
          ]
        }
      ]
    }
  ]
}